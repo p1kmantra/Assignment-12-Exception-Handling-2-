{
 "cells": [
  {
   "cell_type": "markdown",
   "id": "330c5144-9652-4525-9a32-a49f8a0ab81e",
   "metadata": {},
   "source": [
    "Q.1.Explain why we have to use the Exception class while creating a Custom Exception."
   ]
  },
  {
   "cell_type": "markdown",
   "id": "4ebfb632-130e-479d-a51c-ca925d69969e",
   "metadata": {},
   "source": [
    "Ans.Using the exception clas while creating a custom exception is essential for several reasons : "
   ]
  },
  {
   "cell_type": "markdown",
   "id": "00da0d85-77ab-4a3f-bf61-6fa1b04fb4ae",
   "metadata": {},
   "source": [
    "(a).Code organization and readability :By creating a custom a custom exception class ,we clearly define and catogrize specific types of exceptions that can occur in our codebase .This improve code organization and make it easier for other developers to understand and handle exception in a cosistant manner ."
   ]
  },
  {
   "cell_type": "markdown",
   "id": "00e0a644-9a1e-426e-83a0-37c04fd9889e",
   "metadata": {},
   "source": [
    "(b).Specificity and clarity: Custom exception allows us to provide more specific and meaningful information about the exceptional condition that occured .By subclassing the base exception class , we can add additional attributes to our custom excep;tion class ,which can provide context and details about the exceptionaal situations .This helps in identifing the cause and handling the exception appropriately. "
   ]
  },
  {
   "cell_type": "markdown",
   "id": "df934e82-fa15-4fcf-abc0-e84ca5e51340",
   "metadata": {},
   "source": [
    "(c).Customized error handling : Different exception may require different handling mechnaisms.By creating custom exception classes ,we can define specific behavior for each type of exception .For example ,we can implement diffent catch blocks or use specific exception handlers to perform appropriate error recovery or logging actions based on the exception type . "
   ]
  },
  {
   "cell_type": "markdown",
   "id": "140e32b1-8a67-4794-9a7a-d5d9241972fc",
   "metadata": {},
   "source": [
    "(d).Exceptiion hierarchy and in heritance : by inheriting from the base exceptin class we can create a hierarchy of exceptions. this allows us to handle exceptions at different levels of abstraction,from broad categories to more specific scenerios .The inheritance structure also facilitates code reuse and promotes cosistancy in exception handling across different parts of our codebase."
   ]
  },
  {
   "cell_type": "markdown",
   "id": "e3f0c2d2-0c6d-4a7e-87c2-f94df62bd59d",
   "metadata": {},
   "source": [
    "(e).Compitability with existing exception handling mechanisms: Most programming language and frameworks have built in mechanisms to handle exceptions. By using custom exception classes ,we can seamlessly integrate our exceptions with these existing mechanisms, enabling standardized error handling practices.\n"
   ]
  },
  {
   "cell_type": "markdown",
   "id": "8d91ce46-9832-45f4-983a-f024bd100dac",
   "metadata": {},
   "source": [
    "overall ,using the exception class while creating a custom exception provides a systematic and flexible approach to handling error in our code ,allowing for better organization clarity ,and control over exception handling logic."
   ]
  },
  {
   "cell_type": "code",
   "execution_count": null,
   "id": "7c00ff41-56da-4879-99ba-7ea6acef80ed",
   "metadata": {},
   "outputs": [],
   "source": []
  },
  {
   "cell_type": "markdown",
   "id": "fc32791e-9aec-43df-8742-611f5dcf840c",
   "metadata": {},
   "source": [
    "Q.2.Wrtite a Python program to print Python exception hierarchy."
   ]
  },
  {
   "cell_type": "markdown",
   "id": "95942b6d-ab50-4857-992e-b5875d5d1eba",
   "metadata": {},
   "source": [
    "Ans.Certainly! Here's a Ptython program that prints the exception hierarchy in python:"
   ]
  },
  {
   "cell_type": "code",
   "execution_count": null,
   "id": "0f6a752a-60ad-4f5b-8381-bcfb9058f992",
   "metadata": {},
   "outputs": [],
   "source": [
    "def print_exception_hierarchy(exception_class, indent=''):\n",
    "    print(f'{indent}{exception_class.__name__}')\n",
    "    for subclass in exception_class.__subclass__():\n",
    "        print_exception_hierarchy(subclass, indent + '   ')\n",
    "        \n",
    "print_exception_hierarchy(BaseException) "
   ]
  },
  {
   "cell_type": "markdown",
   "id": "0ffcc7de-a6d0-4ab7-99c4-c6f918fdb44b",
   "metadata": {},
   "source": [
    "when we run the program , it will start with the base \"BaseException\" class and recursively traverse through it's subclass to print the exception hierarchy .Each exception class will be indented based om its level in the hierarchy "
   ]
  },
  {
   "cell_type": "markdown",
   "id": "842fadfa-5c12-44d8-8f1e-e7bcf4409e39",
   "metadata": {},
   "source": [
    "BaseException class is the root the python exception hierarchy .All built-in and custom exception classes from it .Here is an example output the program"
   ]
  },
  {
   "cell_type": "code",
   "execution_count": null,
   "id": "caa85a54-b39c-41e7-b537-7054c2851fc7",
   "metadata": {},
   "outputs": [],
   "source": [
    "BaseException\n",
    " SystemExit\n",
    " keyboardInterrupt\n",
    " GeneratorExit\n",
    " Exception\n",
    "  StopIteration\n",
    "  StopAsyncIteration\n",
    "  ArithmeticError\n",
    "   floatingPointError\n",
    "   OverFlowError\n",
    "   ZeroDivisionError\n",
    " AssertionError\n",
    " AttributeErtror"
   ]
  },
  {
   "cell_type": "markdown",
   "id": "80a78a53-ed27-4745-afd3-9cd864d184fa",
   "metadata": {},
   "source": [
    "The output will continue ,displaying the complete hierarchy of Python exception "
   ]
  },
  {
   "cell_type": "code",
   "execution_count": null,
   "id": "b01064a1-aef1-4ef4-8c2f-72d906efef06",
   "metadata": {},
   "outputs": [],
   "source": []
  },
  {
   "cell_type": "markdown",
   "id": "63912a68-2bcb-48d7-82a3-fed327cbc6c2",
   "metadata": {},
   "source": [
    "Q.3.What errors are defined in the ArithmeticError class? Explain any two with an example ?"
   ]
  },
  {
   "cell_type": "markdown",
   "id": "b8833c4a-6082-4f34-8486-cb21253c34b8",
   "metadata": {},
   "source": [
    "Ans.The \"ArithmeticError\" class is a base class for all arithmetic-related exceptions in Python .It serves as a parent class for more specific arithmetic exception classes such as "
   ]
  },
  {
   "cell_type": "markdown",
   "id": "85c47212-2fa4-4968-87d2-9c3d0b2ad8bc",
   "metadata": {},
   "source": [
    "\"FloatingPointError\""
   ]
  },
  {
   "cell_type": "markdown",
   "id": "7dac5fc3-8321-46f3-9309-69514e2e282d",
   "metadata": {},
   "source": [
    "\"OverFlowError' and "
   ]
  },
  {
   "cell_type": "markdown",
   "id": "55d47e94-cbce-4959-93af-a1569ef43bf4",
   "metadata": {},
   "source": [
    "\"ZeroDivisiionError'."
   ]
  },
  {
   "cell_type": "markdown",
   "id": "68aeaaf0-8465-43e6-a314-b3c722c7957b",
   "metadata": {},
   "source": [
    "Here are two examples of arithmetuic errors defined in the \"ArithmeticError\" class"
   ]
  },
  {
   "cell_type": "markdown",
   "id": "de11d6f4-4a36-4c7e-b41c-32ae89b0d62c",
   "metadata": {},
   "source": [
    "(a).FloatingPoint Error: This exception is raised when a floating point operation fails.one common example is the 'OverFlowError' that occurs when a Floating Point number exceeds the maximum representable value .eg.  "
   ]
  },
  {
   "cell_type": "code",
   "execution_count": 6,
   "id": "0eb2b060-b929-4dc6-ab05-3757b0b96722",
   "metadata": {},
   "outputs": [],
   "source": [
    "try:\n",
    "    result = 1e1000* 1e1000\n",
    "except FloatingPointError as e :\n",
    "    print(f\"floatingPointError occured:{e}\")"
   ]
  },
  {
   "cell_type": "code",
   "execution_count": null,
   "id": "92bdc2c5-c300-4f18-b7f3-defd30fcb8c3",
   "metadata": {},
   "outputs": [],
   "source": []
  },
  {
   "cell_type": "markdown",
   "id": "ede40cb8-9d13-453e-8071-34f7cacd5f2c",
   "metadata": {},
   "source": [
    "In this example ,the multiplication of two very large floating-point numbers causes an overflow,leading to a \"loatingPointError\" being raised .The exception can be caught and handled appropriately to provide feedback or perform error recovery."
   ]
  },
  {
   "cell_type": "markdown",
   "id": "e7c602c0-f2ba-422b-8e90-59b3b237198f",
   "metadata": {},
   "source": [
    "(b).\"ZereDivisonError\" : This exception is raised when attempting to avoid a number by zero .It occurs when the denominator in a division operation is zero.eg."
   ]
  },
  {
   "cell_type": "code",
   "execution_count": 3,
   "id": "739f98e7-908d-4862-b632-edca2b490c9e",
   "metadata": {},
   "outputs": [
    {
     "name": "stdout",
     "output_type": "stream",
     "text": [
      "ZeroDivisonError occured:division by zero\n"
     ]
    }
   ],
   "source": [
    "try:\n",
    "    result= 10/0\n",
    "except ZeroDivisionError as e:\n",
    "    print(f\"ZeroDivisonError occured:{e}\")"
   ]
  },
  {
   "cell_type": "markdown",
   "id": "315c471d-c3eb-4d04-a29f-917486d27eb4",
   "metadata": {},
   "source": [
    "In this case ,dividing a number (10) by 0 result in ZeroDivisionError this error can be caught to prevant the program from crashing and provide a suitable error message or alternate action ."
   ]
  },
  {
   "cell_type": "markdown",
   "id": "3831787c-c22f-4422-af9f-3103236d51a5",
   "metadata": {},
   "source": [
    "By catching and  handling these arithmatic errors ,we can gracefully deal with exceptional arithmetic conditions and ensure that our program continues to run smoothly"
   ]
  },
  {
   "cell_type": "code",
   "execution_count": null,
   "id": "32d432e0-156e-4577-8f67-b822138b9fc5",
   "metadata": {},
   "outputs": [],
   "source": []
  },
  {
   "cell_type": "markdown",
   "id": "b59859c6-62b2-441c-b437-09d4dbf79b9b",
   "metadata": {},
   "source": [
    "Q.4.Why LookupError class is used ? Explain with an example KeyError and IndexError."
   ]
  },
  {
   "cell_type": "markdown",
   "id": "adc72aea-de4a-4059-9500-a5ed8f0d7a6f",
   "metadata": {},
   "source": [
    "Ans.The \"LookupError\" class is base class for exception that occur when a lookup or indexing operation fails .It serves as a parent class for more specific lookup related exceptions such as \"KeyError\" and \"IndexError\".Here's an example these two exceptions with examples:"
   ]
  },
  {
   "cell_type": "markdown",
   "id": "4ad6bde6-a1ac-451b-814e-08b3ab36b453",
   "metadata": {},
   "source": [
    "(a).KeyError: This exception is raised when a dictionary key or a set element is not found during a lookup operation .It occurs when we try to access a non-existing key in a dictionary or retrieve a non existing element from a set .eg."
   ]
  },
  {
   "cell_type": "code",
   "execution_count": 8,
   "id": "618b1a0e-955c-4c7c-b28f-d5ec6719719a",
   "metadata": {},
   "outputs": [
    {
     "name": "stdout",
     "output_type": "stream",
     "text": [
      "key error occured: 'd'\n"
     ]
    }
   ],
   "source": [
    "my_dic={\"a\":10, \"b\":20, \"c\": 30}\n",
    "\n",
    "try:\n",
    "    value= my_dic[\"d\"]\n",
    "except KeyError as e:\n",
    "    print(f\"key error occured: {e}\")"
   ]
  },
  {
   "cell_type": "markdown",
   "id": "6ff51e41-6f9d-4696-a0e9-5f8dd1d7a2fb",
   "metadata": {},
   "source": [
    "in this very example the key \"d\" is not present in the my_dic ,resulting in a \"keyError\" .The exeptiion  can be caught to handle the case where a key is not found and take appropriate action ,such as providing a default value or displaying an error message"
   ]
  },
  {
   "cell_type": "markdown",
   "id": "055ddb20-66e9-4dbe-ad55-7d45fc576bd8",
   "metadata": {},
   "source": [
    "(b).\"IndexError\" : This exception is raised when a sequence index is out of range .It occurs when we try access an element from a list ,tuple ,or string using an invalid or out of range index .eg"
   ]
  },
  {
   "cell_type": "code",
   "execution_count": 10,
   "id": "897db13d-f31f-4dad-a58e-b0a5c7c75bd7",
   "metadata": {},
   "outputs": [
    {
     "name": "stdout",
     "output_type": "stream",
     "text": [
      "Index error occuired:list index out of range\n"
     ]
    }
   ],
   "source": [
    "my_list= [10,20,30]\n",
    "\n",
    "try:\n",
    "    value= my_list[4]\n",
    "except IndexError as e:\n",
    "    print(f\"Index error occuired:{e}\")"
   ]
  },
  {
   "cell_type": "markdown",
   "id": "d1a1b836-6dd3-4c71-9a2d-869eda935cb1",
   "metadata": {},
   "source": [
    "in this case ,the endex '4' is beyound the valid range of the my_list, resulting is an IndexError .The exceptiion can be caught to handled situation where an index is invalid ,such as providing a default value or performiong error recovery ."
   ]
  },
  {
   "cell_type": "markdown",
   "id": "07c77fdc-fd98-4204-a690-0462c4fb3c7d",
   "metadata": {},
   "source": [
    "By using the LookupError class as a base ,these specific lookup-related exception (keyerror and indexerror )can be caught together or seperately to handle scenarios where lookup or indexing operation fail due to missing keys or out-of-range indexes."
   ]
  },
  {
   "cell_type": "code",
   "execution_count": null,
   "id": "21852f34-6691-4a5a-9144-e6bc060a2b6b",
   "metadata": {},
   "outputs": [],
   "source": []
  },
  {
   "cell_type": "markdown",
   "id": "166bffba-a039-49cb-9eda-f1ff8c68cc47",
   "metadata": {},
   "source": [
    "Q.5.Explain ImportError. What is ModuleNotFoundError?"
   ]
  },
  {
   "cell_type": "markdown",
   "id": "a7c2a759-23ff-4702-8697-ff531abd6ceb",
   "metadata": {},
   "source": [
    "Ans.The \"ImportError\" is an exception that occurs when there is an issue with importing a module or package in Python .It is raised when an \"import\" statement fails to locate or load the specific module .The \"importError \"class is base class for various import-related exceptions."
   ]
  },
  {
   "cell_type": "markdown",
   "id": "8d407e90-8e34-408a-8090-6456ab6fbda1",
   "metadata": {},
   "source": [
    "One specific type of \"ImportError\" is the \"ModuleNotError\". This exception is raised when a module or package cannot be found during the import Python cannot the specified module in the available search paths."
   ]
  },
  {
   "cell_type": "markdown",
   "id": "6fe922ec-1ac0-43c6-b54a-b2d320d0f8be",
   "metadata": {},
   "source": [
    "The \"ModuleNotFound\" can happen due to the following reasons"
   ]
  },
  {
   "cell_type": "markdown",
   "id": "a2e57dff-785c-45eb-9c33-0ff48f8b8108",
   "metadata": {},
   "source": [
    "(a).Incurrect module or package name : If you provide an incurrect name for the module or package in the import statement ,Python will not be able to find it.This can happen if you misspell the name or mistakenlly provide a different nmae."
   ]
  },
  {
   "cell_type": "code",
   "execution_count": null,
   "id": "2f968c0c-4b3d-49ea-a6dd-92775c091896",
   "metadata": {},
   "outputs": [],
   "source": [
    "import mypackage.module"
   ]
  },
  {
   "cell_type": "markdown",
   "id": "169d36dd-ce0f-4331-b99e-ad226ef9b1bc",
   "metadata": {},
   "source": [
    "when a \"ModuleNotfoundError \" occurs ,Python will raise the exception and provide information about the module or package that could not be found .You can catch the exception and handle it gracefully by displaying an error message ,installing the missing module ,or adjusting the import statement or module location accordingly.\n"
   ]
  },
  {
   "cell_type": "code",
   "execution_count": 11,
   "id": "ff568341-1083-4457-aba8-e716e83e313e",
   "metadata": {},
   "outputs": [
    {
     "name": "stdout",
     "output_type": "stream",
     "text": [
      "Module not found:No module named 'mymodule'\n"
     ]
    }
   ],
   "source": [
    "try:\n",
    "    import mymodule\n",
    "except ModuleNotFoundError as e:\n",
    "    print(f\"Module not found:{e}\")"
   ]
  },
  {
   "cell_type": "markdown",
   "id": "ba721abc-7c46-4fe4-b945-6ead6109902a",
   "metadata": {},
   "source": [
    "By understanding and handling \"ModuleNotFoundError\" appropriately ,we can diagnose and resolve import -related issues in our Python Code."
   ]
  },
  {
   "cell_type": "code",
   "execution_count": null,
   "id": "2a8a6528-de69-4b92-9b77-f9edc0f8842d",
   "metadata": {},
   "outputs": [],
   "source": []
  },
  {
   "cell_type": "markdown",
   "id": "790ffaa5-f5cc-4788-8a40-3cfe493e858c",
   "metadata": {},
   "source": [
    "Q.6.List down some best practices for exception handling in python. "
   ]
  },
  {
   "cell_type": "markdown",
   "id": "b714b3a2-2b9d-49cc-b5e4-bb25f368a0b7",
   "metadata": {},
   "source": [
    "Ans.Here are some best practices for exception handling in Python:"
   ]
  },
  {
   "cell_type": "markdown",
   "id": "9e257733-370b-4c68-9e48-ea1116ef2700",
   "metadata": {},
   "source": [
    "(a.)Use always specific exception ,instead of catching the generic 'Eception' class try to catch specific exceptions.This allows us to handle different exceptions diffrent and provide better clarity in our code.eg."
   ]
  },
  {
   "cell_type": "code",
   "execution_count": 2,
   "id": "c17cb8e7-af44-4a19-8452-cc7aa8e7c591",
   "metadata": {},
   "outputs": [
    {
     "name": "stdout",
     "output_type": "stream",
     "text": [
      "division by zero\n"
     ]
    }
   ],
   "source": [
    "try:\n",
    "    20/0\n",
    "except ZeroDivisionError as e:\n",
    "    print (e)"
   ]
  },
  {
   "cell_type": "markdown",
   "id": "4903e58d-933a-482c-9838-4c8cc6626467",
   "metadata": {},
   "source": [
    "(b).Always try to log error: logging exception can be helpful for debugging and troubleshooting purposes .eg"
   ]
  },
  {
   "cell_type": "code",
   "execution_count": 5,
   "id": "01cc31fd-5a4f-4556-93a5-09e5d01a2fc5",
   "metadata": {},
   "outputs": [
    {
     "name": "stderr",
     "output_type": "stream",
     "text": [
      "ERROR:root:I am trying to handle zero division error division by zero\n"
     ]
    }
   ],
   "source": [
    "import logging\n",
    "logging.basicConfig(filename=\"error.log\",level=logging.ERROR)\n",
    "\n",
    "try:\n",
    "    100/0\n",
    "except ZeroDivisionError as e:\n",
    "    logging.error(\"I am trying to handle zero division error {}\" .format(e))"
   ]
  },
  {
   "cell_type": "markdown",
   "id": "c078c4da-3429-4092-b3d4-4fe2a64bc722",
   "metadata": {},
   "source": [
    "(c).Reraise exception selectively : In some cases ,we may want to catch an exception ,pertform some handling  and then reraise exception to allow it to propragate up when the cal stack .However ,be cautious when raising exception and ensure it's neccessary for the control flow of our program"
   ]
  },
  {
   "cell_type": "markdown",
   "id": "96e1d364-3f1b-4a62-8866-f8072aa891ae",
   "metadata": {},
   "source": [
    "(d).we should always try to avoid multiple exception handling.It's better to let exception propagate up the call stack to a higher level rather than catching and handling then at a lower level where the neccessary context may not be avilable"
   ]
  },
  {
   "cell_type": "markdown",
   "id": "c68dfdfd-d993-4e23-9fd0-36e01c93254c",
   "metadata": {},
   "source": [
    "(e).We must remmeber about claen up all the resources. It's often neccessry to perform cleanup  operation or release resources regardless of whether an exception occured .eg."
   ]
  },
  {
   "cell_type": "code",
   "execution_count": 6,
   "id": "873c26c6-b59b-4a09-a4d3-5b3e1b4e2fb3",
   "metadata": {},
   "outputs": [],
   "source": [
    "try:\n",
    "    with open (\"stay.txt\",\"w\")as f:\n",
    "        f.write(\"this is about how to stay for a while\")\n",
    "except FileNotFoundError as e:\n",
    "    logging.error(\"try to handle the file that is not avilable {}\".format(e))\n",
    "finally:\n",
    "    f.close()"
   ]
  },
  {
   "cell_type": "code",
   "execution_count": null,
   "id": "b6d51965-bc1c-495d-b192-eb8ec3e7792d",
   "metadata": {},
   "outputs": [],
   "source": [
    "These are general best practices and specific exception  handling strategy ma"
   ]
  }
 ],
 "metadata": {
  "kernelspec": {
   "display_name": "Python 3 (ipykernel)",
   "language": "python",
   "name": "python3"
  },
  "language_info": {
   "codemirror_mode": {
    "name": "ipython",
    "version": 3
   },
   "file_extension": ".py",
   "mimetype": "text/x-python",
   "name": "python",
   "nbconvert_exporter": "python",
   "pygments_lexer": "ipython3",
   "version": "3.10.8"
  }
 },
 "nbformat": 4,
 "nbformat_minor": 5
}
